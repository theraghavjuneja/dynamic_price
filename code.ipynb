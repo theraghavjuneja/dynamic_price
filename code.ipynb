{
 "cells": [
  {
   "cell_type": "code",
   "execution_count": 1,
   "metadata": {},
   "outputs": [],
   "source": [
    "import pandas as pd\n",
    "df=pd.read_csv('dynamic_pricing_optimization_dataset.csv')\n"
   ]
  },
  {
   "cell_type": "code",
   "execution_count": 2,
   "metadata": {},
   "outputs": [
    {
     "data": {
      "text/html": [
       "<div>\n",
       "<style scoped>\n",
       "    .dataframe tbody tr th:only-of-type {\n",
       "        vertical-align: middle;\n",
       "    }\n",
       "\n",
       "    .dataframe tbody tr th {\n",
       "        vertical-align: top;\n",
       "    }\n",
       "\n",
       "    .dataframe thead th {\n",
       "        text-align: right;\n",
       "    }\n",
       "</style>\n",
       "<table border=\"1\" class=\"dataframe\">\n",
       "  <thead>\n",
       "    <tr style=\"text-align: right;\">\n",
       "      <th></th>\n",
       "      <th>Timestamp</th>\n",
       "      <th>Product_ID</th>\n",
       "      <th>Product_Category</th>\n",
       "      <th>Customer_ID</th>\n",
       "      <th>Customer_Segment</th>\n",
       "      <th>Purchase_History</th>\n",
       "      <th>Competitor_Price</th>\n",
       "      <th>Seasonality</th>\n",
       "      <th>Economic_Indicator</th>\n",
       "      <th>Sentiment</th>\n",
       "      <th>Price</th>\n",
       "      <th>Dynamic_Pricing_Strategy</th>\n",
       "      <th>Revenue</th>\n",
       "      <th>Profitability</th>\n",
       "      <th>Price_Elasticity</th>\n",
       "    </tr>\n",
       "  </thead>\n",
       "  <tbody>\n",
       "    <tr>\n",
       "      <th>0</th>\n",
       "      <td>2023-09-14 01:20:11.378382</td>\n",
       "      <td>Product_1</td>\n",
       "      <td>Books</td>\n",
       "      <td>Customer_298</td>\n",
       "      <td>Premium</td>\n",
       "      <td>6</td>\n",
       "      <td>270.50</td>\n",
       "      <td>Medium</td>\n",
       "      <td>0.89</td>\n",
       "      <td>0.61</td>\n",
       "      <td>838.91</td>\n",
       "      <td>Dynamic Bundling</td>\n",
       "      <td>288.92</td>\n",
       "      <td>0.30</td>\n",
       "      <td>-0.66</td>\n",
       "    </tr>\n",
       "    <tr>\n",
       "      <th>1</th>\n",
       "      <td>2023-10-31 01:20:11.378392</td>\n",
       "      <td>Product_2</td>\n",
       "      <td>Books</td>\n",
       "      <td>Customer_510</td>\n",
       "      <td>Regular</td>\n",
       "      <td>8</td>\n",
       "      <td>69.99</td>\n",
       "      <td>Low</td>\n",
       "      <td>0.76</td>\n",
       "      <td>0.65</td>\n",
       "      <td>161.50</td>\n",
       "      <td>Dynamic Bundling</td>\n",
       "      <td>8577.93</td>\n",
       "      <td>0.44</td>\n",
       "      <td>-0.91</td>\n",
       "    </tr>\n",
       "    <tr>\n",
       "      <th>2</th>\n",
       "      <td>2024-02-17 01:20:11.378393</td>\n",
       "      <td>Product_3</td>\n",
       "      <td>Books</td>\n",
       "      <td>Customer_119</td>\n",
       "      <td>New</td>\n",
       "      <td>4</td>\n",
       "      <td>924.96</td>\n",
       "      <td>High</td>\n",
       "      <td>1.40</td>\n",
       "      <td>0.95</td>\n",
       "      <td>157.00</td>\n",
       "      <td>Dynamic Bundling</td>\n",
       "      <td>8286.22</td>\n",
       "      <td>0.48</td>\n",
       "      <td>-1.48</td>\n",
       "    </tr>\n",
       "    <tr>\n",
       "      <th>3</th>\n",
       "      <td>2024-02-18 01:20:11.378394</td>\n",
       "      <td>Product_4</td>\n",
       "      <td>Health &amp; Beauty</td>\n",
       "      <td>Customer_306</td>\n",
       "      <td>Inactive</td>\n",
       "      <td>2</td>\n",
       "      <td>365.88</td>\n",
       "      <td>High</td>\n",
       "      <td>1.67</td>\n",
       "      <td>0.61</td>\n",
       "      <td>183.18</td>\n",
       "      <td>Dynamic Bundling</td>\n",
       "      <td>7495.00</td>\n",
       "      <td>0.47</td>\n",
       "      <td>-1.89</td>\n",
       "    </tr>\n",
       "    <tr>\n",
       "      <th>4</th>\n",
       "      <td>2023-10-24 01:20:11.378395</td>\n",
       "      <td>Product_5</td>\n",
       "      <td>Clothing</td>\n",
       "      <td>Customer_80</td>\n",
       "      <td>Inactive</td>\n",
       "      <td>9</td>\n",
       "      <td>776.66</td>\n",
       "      <td>Medium</td>\n",
       "      <td>1.58</td>\n",
       "      <td>0.15</td>\n",
       "      <td>364.08</td>\n",
       "      <td>Dynamic Markdowns</td>\n",
       "      <td>9788.14</td>\n",
       "      <td>0.14</td>\n",
       "      <td>-1.32</td>\n",
       "    </tr>\n",
       "  </tbody>\n",
       "</table>\n",
       "</div>"
      ],
      "text/plain": [
       "                    Timestamp Product_ID Product_Category   Customer_ID  \\\n",
       "0  2023-09-14 01:20:11.378382  Product_1            Books  Customer_298   \n",
       "1  2023-10-31 01:20:11.378392  Product_2            Books  Customer_510   \n",
       "2  2024-02-17 01:20:11.378393  Product_3            Books  Customer_119   \n",
       "3  2024-02-18 01:20:11.378394  Product_4  Health & Beauty  Customer_306   \n",
       "4  2023-10-24 01:20:11.378395  Product_5         Clothing   Customer_80   \n",
       "\n",
       "  Customer_Segment  Purchase_History  Competitor_Price Seasonality  \\\n",
       "0          Premium                 6            270.50      Medium   \n",
       "1          Regular                 8             69.99         Low   \n",
       "2              New                 4            924.96        High   \n",
       "3         Inactive                 2            365.88        High   \n",
       "4         Inactive                 9            776.66      Medium   \n",
       "\n",
       "   Economic_Indicator  Sentiment   Price Dynamic_Pricing_Strategy  Revenue  \\\n",
       "0                0.89       0.61  838.91         Dynamic Bundling   288.92   \n",
       "1                0.76       0.65  161.50         Dynamic Bundling  8577.93   \n",
       "2                1.40       0.95  157.00         Dynamic Bundling  8286.22   \n",
       "3                1.67       0.61  183.18         Dynamic Bundling  7495.00   \n",
       "4                1.58       0.15  364.08        Dynamic Markdowns  9788.14   \n",
       "\n",
       "   Profitability  Price_Elasticity  \n",
       "0           0.30             -0.66  \n",
       "1           0.44             -0.91  \n",
       "2           0.48             -1.48  \n",
       "3           0.47             -1.89  \n",
       "4           0.14             -1.32  "
      ]
     },
     "execution_count": 2,
     "metadata": {},
     "output_type": "execute_result"
    }
   ],
   "source": [
    "df.head()"
   ]
  },
  {
   "cell_type": "code",
   "execution_count": 3,
   "metadata": {},
   "outputs": [
    {
     "data": {
      "text/plain": [
       "Timestamp                    object\n",
       "Product_ID                   object\n",
       "Product_Category             object\n",
       "Customer_ID                  object\n",
       "Customer_Segment             object\n",
       "Purchase_History              int64\n",
       "Competitor_Price            float64\n",
       "Seasonality                  object\n",
       "Economic_Indicator          float64\n",
       "Sentiment                   float64\n",
       "Price                       float64\n",
       "Dynamic_Pricing_Strategy     object\n",
       "Revenue                     float64\n",
       "Profitability               float64\n",
       "Price_Elasticity            float64\n",
       "dtype: object"
      ]
     },
     "execution_count": 3,
     "metadata": {},
     "output_type": "execute_result"
    }
   ],
   "source": [
    "df.dtypes"
   ]
  },
  {
   "cell_type": "code",
   "execution_count": 26,
   "metadata": {},
   "outputs": [
    {
     "data": {
      "text/plain": [
       "Timestamp                   49966\n",
       "Product_ID                  50000\n",
       "Product_Category                5\n",
       "Customer_ID                  1000\n",
       "Customer_Segment                4\n",
       "Purchase_History               10\n",
       "Competitor_Price            39393\n",
       "Seasonality                     3\n",
       "Economic_Indicator            151\n",
       "Sentiment                     101\n",
       "Price                       39263\n",
       "Dynamic_Pricing_Strategy        4\n",
       "Revenue                     48722\n",
       "Profitability                  41\n",
       "Price_Elasticity              151\n",
       "dtype: int64"
      ]
     },
     "execution_count": 26,
     "metadata": {},
     "output_type": "execute_result"
    }
   ],
   "source": [
    "df.nunique()"
   ]
  },
  {
   "cell_type": "code",
   "execution_count": 28,
   "metadata": {},
   "outputs": [
    {
     "data": {
      "text/plain": [
       "Timestamp                   0\n",
       "Product_ID                  0\n",
       "Product_Category            0\n",
       "Customer_ID                 0\n",
       "Customer_Segment            0\n",
       "Purchase_History            0\n",
       "Competitor_Price            0\n",
       "Seasonality                 0\n",
       "Economic_Indicator          0\n",
       "Sentiment                   0\n",
       "Price                       0\n",
       "Dynamic_Pricing_Strategy    0\n",
       "Revenue                     0\n",
       "Profitability               0\n",
       "Price_Elasticity            0\n",
       "dtype: int64"
      ]
     },
     "execution_count": 28,
     "metadata": {},
     "output_type": "execute_result"
    }
   ],
   "source": [
    "df.isna().sum()"
   ]
  },
  {
   "cell_type": "code",
   "execution_count": 14,
   "metadata": {},
   "outputs": [],
   "source": [
    "unique_counts=df.nunique()"
   ]
  },
  {
   "cell_type": "code",
   "execution_count": 15,
   "metadata": {},
   "outputs": [],
   "source": [
    "columns_to_count = unique_counts[unique_counts < 200].index"
   ]
  },
  {
   "cell_type": "code",
   "execution_count": 10,
   "metadata": {},
   "outputs": [
    {
     "data": {
      "text/plain": [
       "Product_Category\n",
       "Home Appliances    10101\n",
       "Electronics        10096\n",
       "Clothing           10015\n",
       "Health & Beauty     9918\n",
       "Books               9870\n",
       "Name: count, dtype: int64"
      ]
     },
     "execution_count": 10,
     "metadata": {},
     "output_type": "execute_result"
    }
   ],
   "source": [
    "df['Product_Category'].value_counts()"
   ]
  },
  {
   "cell_type": "code",
   "execution_count": 17,
   "metadata": {},
   "outputs": [
    {
     "data": {
      "text/plain": [
       "Customer_ID\n",
       "Customer_332    73\n",
       "Customer_77     72\n",
       "Customer_917    71\n",
       "Customer_226    71\n",
       "Customer_855    71\n",
       "                ..\n",
       "Customer_137    34\n",
       "Customer_463    32\n",
       "Customer_302    32\n",
       "Customer_76     31\n",
       "Customer_375    29\n",
       "Name: count, Length: 1000, dtype: int64"
      ]
     },
     "execution_count": 17,
     "metadata": {},
     "output_type": "execute_result"
    }
   ],
   "source": [
    "df['Customer_ID'].value_counts()"
   ]
  },
  {
   "cell_type": "code",
   "execution_count": 18,
   "metadata": {},
   "outputs": [
    {
     "data": {
      "text/plain": [
       "Customer_Segment\n",
       "Inactive    12549\n",
       "New         12542\n",
       "Regular     12471\n",
       "Premium     12438\n",
       "Name: count, dtype: int64"
      ]
     },
     "execution_count": 18,
     "metadata": {},
     "output_type": "execute_result"
    }
   ],
   "source": [
    "df['Customer_Segment'].value_counts()"
   ]
  },
  {
   "cell_type": "code",
   "execution_count": 31,
   "metadata": {},
   "outputs": [
    {
     "data": {
      "text/plain": [
       "array([ 6,  8,  4,  2,  9, 10,  1,  5,  3,  7], dtype=int64)"
      ]
     },
     "execution_count": 31,
     "metadata": {},
     "output_type": "execute_result"
    }
   ],
   "source": [
    "df['Purchase_History'].unique()"
   ]
  },
  {
   "cell_type": "code",
   "execution_count": 19,
   "metadata": {},
   "outputs": [
    {
     "data": {
      "text/plain": [
       "Purchase_History\n",
       "3     5104\n",
       "6     5072\n",
       "7     5064\n",
       "5     5025\n",
       "8     4984\n",
       "2     4982\n",
       "9     4982\n",
       "4     4973\n",
       "10    4930\n",
       "1     4884\n",
       "Name: count, dtype: int64"
      ]
     },
     "execution_count": 19,
     "metadata": {},
     "output_type": "execute_result"
    }
   ],
   "source": [
    "df['Purchase_History'].value_counts()"
   ]
  },
  {
   "cell_type": "code",
   "execution_count": 20,
   "metadata": {},
   "outputs": [
    {
     "data": {
      "text/plain": [
       "Seasonality\n",
       "Low       16723\n",
       "High      16703\n",
       "Medium    16574\n",
       "Name: count, dtype: int64"
      ]
     },
     "execution_count": 20,
     "metadata": {},
     "output_type": "execute_result"
    }
   ],
   "source": [
    "df['Seasonality'].value_counts()"
   ]
  },
  {
   "cell_type": "code",
   "execution_count": 21,
   "metadata": {},
   "outputs": [
    {
     "data": {
      "text/plain": [
       "Economic_Indicator\n",
       "0.55    393\n",
       "1.96    373\n",
       "1.87    372\n",
       "1.12    370\n",
       "1.73    369\n",
       "       ... \n",
       "0.83    293\n",
       "1.95    290\n",
       "1.31    289\n",
       "0.50    178\n",
       "2.00    158\n",
       "Name: count, Length: 151, dtype: int64"
      ]
     },
     "execution_count": 21,
     "metadata": {},
     "output_type": "execute_result"
    }
   ],
   "source": [
    "df['Economic_Indicator'].value_counts()"
   ]
  },
  {
   "cell_type": "code",
   "execution_count": 22,
   "metadata": {},
   "outputs": [
    {
     "data": {
      "text/plain": [
       "Sentiment\n",
       "0.89    550\n",
       "0.50    550\n",
       "0.74    550\n",
       "0.95    548\n",
       "0.63    548\n",
       "       ... \n",
       "0.51    451\n",
       "0.15    450\n",
       "0.13    444\n",
       "0.00    267\n",
       "1.00    258\n",
       "Name: count, Length: 101, dtype: int64"
      ]
     },
     "execution_count": 22,
     "metadata": {},
     "output_type": "execute_result"
    }
   ],
   "source": [
    "df['Sentiment'].value_counts()"
   ]
  },
  {
   "cell_type": "code",
   "execution_count": 24,
   "metadata": {},
   "outputs": [
    {
     "data": {
      "text/plain": [
       "Profitability\n",
       "0.18    1341\n",
       "0.44    1310\n",
       "0.29    1298\n",
       "0.22    1296\n",
       "0.28    1288\n",
       "0.39    1278\n",
       "0.19    1277\n",
       "0.34    1277\n",
       "0.16    1276\n",
       "0.33    1276\n",
       "0.21    1274\n",
       "0.40    1272\n",
       "0.27    1269\n",
       "0.48    1264\n",
       "0.14    1262\n",
       "0.31    1261\n",
       "0.41    1260\n",
       "0.38    1257\n",
       "0.13    1256\n",
       "0.46    1256\n",
       "0.43    1253\n",
       "0.17    1251\n",
       "0.15    1242\n",
       "0.47    1240\n",
       "0.49    1239\n",
       "0.24    1236\n",
       "0.35    1233\n",
       "0.12    1226\n",
       "0.23    1226\n",
       "0.32    1224\n",
       "0.26    1224\n",
       "0.25    1224\n",
       "0.36    1211\n",
       "0.45    1211\n",
       "0.37    1210\n",
       "0.20    1210\n",
       "0.11    1205\n",
       "0.30    1202\n",
       "0.42    1170\n",
       "0.50     618\n",
       "0.10     597\n",
       "Name: count, dtype: int64"
      ]
     },
     "execution_count": 24,
     "metadata": {},
     "output_type": "execute_result"
    }
   ],
   "source": [
    "df['Profitability'].value_counts()"
   ]
  },
  {
   "cell_type": "code",
   "execution_count": 23,
   "metadata": {},
   "outputs": [
    {
     "data": {
      "text/plain": [
       "Dynamic_Pricing_Strategy\n",
       "Personalized Pricing    12689\n",
       "Dynamic Bundling        12556\n",
       "Discounting             12420\n",
       "Dynamic Markdowns       12335\n",
       "Name: count, dtype: int64"
      ]
     },
     "execution_count": 23,
     "metadata": {},
     "output_type": "execute_result"
    }
   ],
   "source": [
    "df['Dynamic_Pricing_Strategy'].value_counts()"
   ]
  },
  {
   "cell_type": "code",
   "execution_count": 25,
   "metadata": {},
   "outputs": [
    {
     "data": {
      "text/plain": [
       "Price_Elasticity\n",
       "-1.50    382\n",
       "-0.74    375\n",
       "-1.16    372\n",
       "-1.82    371\n",
       "-1.97    366\n",
       "        ... \n",
       "-0.51    288\n",
       "-0.83    287\n",
       "-1.32    283\n",
       "-2.00    195\n",
       "-0.50    164\n",
       "Name: count, Length: 151, dtype: int64"
      ]
     },
     "execution_count": 25,
     "metadata": {},
     "output_type": "execute_result"
    }
   ],
   "source": [
    "df['Price_Elasticity'].value_counts()"
   ]
  },
  {
   "cell_type": "code",
   "execution_count": null,
   "metadata": {},
   "outputs": [],
   "source": []
  },
  {
   "cell_type": "code",
   "execution_count": null,
   "metadata": {},
   "outputs": [],
   "source": []
  },
  {
   "cell_type": "code",
   "execution_count": null,
   "metadata": {},
   "outputs": [],
   "source": []
  },
  {
   "cell_type": "code",
   "execution_count": null,
   "metadata": {},
   "outputs": [],
   "source": []
  },
  {
   "cell_type": "code",
   "execution_count": null,
   "metadata": {},
   "outputs": [],
   "source": []
  },
  {
   "cell_type": "code",
   "execution_count": null,
   "metadata": {},
   "outputs": [],
   "source": []
  },
  {
   "cell_type": "code",
   "execution_count": null,
   "metadata": {},
   "outputs": [],
   "source": []
  },
  {
   "cell_type": "code",
   "execution_count": null,
   "metadata": {},
   "outputs": [],
   "source": []
  },
  {
   "cell_type": "code",
   "execution_count": null,
   "metadata": {},
   "outputs": [],
   "source": []
  },
  {
   "cell_type": "code",
   "execution_count": null,
   "metadata": {},
   "outputs": [],
   "source": [
    "# for column in columns_to_count:\n",
    "#     value_counts = df[column].value_counts()\n",
    "#     print(column + \":\")\n",
    "#     print(value_counts)\n",
    "#     print()"
   ]
  }
 ],
 "metadata": {
  "kernelspec": {
   "display_name": "Python 3",
   "language": "python",
   "name": "python3"
  },
  "language_info": {
   "codemirror_mode": {
    "name": "ipython",
    "version": 3
   },
   "file_extension": ".py",
   "mimetype": "text/x-python",
   "name": "python",
   "nbconvert_exporter": "python",
   "pygments_lexer": "ipython3",
   "version": "3.11.5"
  }
 },
 "nbformat": 4,
 "nbformat_minor": 2
}
